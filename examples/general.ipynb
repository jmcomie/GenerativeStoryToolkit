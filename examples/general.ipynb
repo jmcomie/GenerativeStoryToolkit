{
 "cells": [
  {
   "cell_type": "markdown",
   "id": "ca4cc0cb-ab4e-44ca-9115-05c17f69ca2f",
   "metadata": {},
   "source": [
    "#### Configure environment variables"
   ]
  },
  {
   "cell_type": "code",
   "execution_count": null,
   "id": "6b250034-fdc6-4dc0-83f4-3baea72e67c1",
   "metadata": {},
   "outputs": [],
   "source": [
    "import os\n",
    "\n",
    "# Set environment variable for OpenAI. Note: can be left blank if set\n",
    "# in .env.\n",
    "OPENAI_API_KEY: str = \"\"\n",
    "if OPENAI_API_KEY:\n",
    "    os.environ[\"OPENAI_API_KEY\"] = OPENAI_API_KEY"
   ]
  },
  {
   "cell_type": "markdown",
   "id": "ece499f7-b179-47c7-897e-2ee9caccece2",
   "metadata": {},
   "source": [
    "#### Open project, create if not existing"
   ]
  },
  {
   "cell_type": "code",
   "execution_count": null,
   "id": "f22bcdcb-ac21-40b8-9bd2-1fdcb4979273",
   "metadata": {},
   "outputs": [],
   "source": [
    "from gstk.creation.api import CreationProject\n",
    "import gstk.shim\n",
    "from gstk.graph.system_graph_registry import ProjectProperties\n",
    "from gstk.creation.group import CreationGroup, new_group\n",
    "\n",
    "project: CreationProject = gstk.shim.get_or_create_project(\"general_example_2\")\n",
    "root_group: CreationGroup = project.root_group"
   ]
  },
  {
   "cell_type": "markdown",
   "id": "2b8e41c7-3839-431b-ac10-086c4cc9b380",
   "metadata": {},
   "source": [
    "#### Create characters"
   ]
  },
  {
   "cell_type": "code",
   "execution_count": null,
   "id": "9b22bfca-ce1f-4033-9a90-f88856e6aaaa",
   "metadata": {},
   "outputs": [],
   "source": [
    "from gstk.graph.registry_context_manager import graph_registries\n",
    "from gstk.user_registries.story.graph_registry import StoryEdgeRegistry, StoryNodeRegistry, StoryNodeType\n",
    "\n",
    "character_group: CreationGroup = gstk.shim.get_or_create_subgroup(root_group, \"character\")\n",
    "existing_count: int = gstk.shim.get_out_node_count(character_group, node_type_filter=[StoryNodeType.character])\n",
    "print(f\"Existing count: {existing_count}\")\n",
    "\n",
    "desired_count: int = 25\n",
    "\n",
    "for i in range(max(0, desired_count - existing_count)):\n",
    "    await character_group.create(\n",
    "        StoryNodeType.character,\n",
    "        \"\"\"provide the name and no other fields for a greek or roman character for the use in a videogame village.\"\"\",\n",
    "    )"
   ]
  },
  {
   "cell_type": "markdown",
   "id": "39872f15-e68c-4dc1-b9b6-a9bb968d5bcc",
   "metadata": {},
   "source": [
    "### Print created nodes"
   ]
  },
  {
   "cell_type": "code",
   "execution_count": null,
   "id": "e2db8296-4ecc-4892-b5a2-69d5a6bd1fa6",
   "metadata": {},
   "outputs": [],
   "source": [
    "import gstk.shim\n",
    "\n",
    "gstk.shim.print_group_nodes(character_group)"
   ]
  },
  {
   "cell_type": "markdown",
   "id": "862811ba-ea42-4e83-b5f0-be69b1b188f8",
   "metadata": {},
   "source": [
    "### Generate embedding vectors for created nodes"
   ]
  },
  {
   "cell_type": "code",
   "execution_count": null,
   "id": "f0c96839-47ca-4602-a83d-ac2147651bf0",
   "metadata": {},
   "outputs": [],
   "source": [
    "await character_group.ensure_vectors(node_type_filter=[StoryNodeType.character])"
   ]
  },
  {
   "cell_type": "markdown",
   "id": "16808aad-a7d6-440c-b5db-605a132d5453",
   "metadata": {},
   "source": [
    "### Remove duplicates"
   ]
  },
  {
   "cell_type": "code",
   "execution_count": null,
   "id": "40f405de-2323-44a1-8d1f-34b6918dc94a",
   "metadata": {},
   "outputs": [],
   "source": [
    "gstk.shim.deduplicate_contained_nodes(character_group, node_type_filter=[StoryNodeType.character])\n"
   ]
  },
  {
   "cell_type": "markdown",
   "id": "8181d01b-7a53-4ecf-9fb2-a8d9897ce3f8",
   "metadata": {},
   "source": [
    "### Update created nodes in parallel"
   ]
  },
  {
   "cell_type": "code",
   "execution_count": null,
   "id": "c3b374bb-6873-4059-b8e4-46458d072378",
   "metadata": {},
   "outputs": [],
   "source": [
    "pass"
   ]
  },
  {
   "cell_type": "markdown",
   "id": "2760bb95-e566-42c0-a931-3f4e26f23fe0",
   "metadata": {},
   "source": [
    "### Select three characters on a given criteria and create a conversation"
   ]
  },
  {
   "cell_type": "code",
   "execution_count": null,
   "id": "e6fa86b3-a2b1-444b-8d12-460d6c078927",
   "metadata": {},
   "outputs": [],
   "source": [
    "pass"
   ]
  },
  {
   "cell_type": "code",
   "execution_count": null,
   "id": "776e2bab-0558-4352-8744-e3a8b49c60ac",
   "metadata": {},
   "outputs": [],
   "source": []
  }
 ],
 "metadata": {
  "kernelspec": {
   "display_name": "Python 3 (ipykernel)",
   "language": "python",
   "name": "python3"
  },
  "language_info": {
   "codemirror_mode": {
    "name": "ipython",
    "version": 3
   },
   "file_extension": ".py",
   "mimetype": "text/x-python",
   "name": "python",
   "nbconvert_exporter": "python",
   "pygments_lexer": "ipython3",
   "version": "3.11.6"
  }
 },
 "nbformat": 4,
 "nbformat_minor": 5
}
